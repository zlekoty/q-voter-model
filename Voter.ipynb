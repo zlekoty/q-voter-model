{
 "cells": [
  {
   "cell_type": "code",
   "execution_count": 1,
   "id": "substantial-diesel",
   "metadata": {},
   "outputs": [],
   "source": [
    "using Random, StatsBase, LightGraphs, GraphPlot, GraphRecipes, Plots, LinearAlgebra, DelimitedFiles"
   ]
  },
  {
   "cell_type": "markdown",
   "id": "portable-strip",
   "metadata": {},
   "source": [
    "#  Analysis of the linear q-voter model on the ring\n",
    "N - size of system <br>\n",
    "dx - percentage of initial positive opinions<br>\n",
    "L - number of simulations for each dx"
   ]
  },
  {
   "cell_type": "code",
   "execution_count": 2,
   "id": "excited-penguin",
   "metadata": {},
   "outputs": [
    {
     "data": {
      "text/plain": [
       "voter (generic function with 1 method)"
      ]
     },
     "execution_count": 2,
     "metadata": {},
     "output_type": "execute_result"
    }
   ],
   "source": [
    "function voter(N,dx,L)\n",
    "    \n",
    "    all=[]\n",
    "    \n",
    "    x = 0:dx:1             #vector of positive opinion percentage\n",
    "\n",
    "    for xi in x\n",
    "        #println(xi)\n",
    "        x_prob_time=[]\n",
    "        \n",
    "        positives=0             #all positive outcome\n",
    "        MonteCarloSteps=0       #time\n",
    "        \n",
    "        for simulation in 1:L\n",
    "            #print(simulation)\n",
    "            MCS=0               #monte carlo step\n",
    "            \n",
    "            net = -ones(N)\n",
    "            for i in 1:floor(Int,N*xi)\n",
    "                net[i]=1\n",
    "            end\n",
    "            shuffle!(net)\n",
    "            if xi<=0.1\n",
    "            end\n",
    "\n",
    "            net_help=copy(net)\n",
    "            pushfirst!(net_help,net[end]), push!(net_help,net[2])   #creating net of voters\n",
    "            \n",
    "            while net_help!=ones(N+2) && net_help!=-ones(N+2)\n",
    "                MCS+=1\n",
    "                for n in N\n",
    "                    Li = rand(2:N+1)                #listener\n",
    "                    Sp = rand([Li-1,Li+1])          #speaker\n",
    "\n",
    "                    net_help[Li]=net_help[Sp]       #change\n",
    "\n",
    "                    if Li == 2\n",
    "                        net_help[N+2]=net_help[Sp]\n",
    "                    elseif Li == length(net_help)-1\n",
    "                        net_help[1]=net_help[Sp]\n",
    "                    end\n",
    "                end\n",
    "            end\n",
    "            MonteCarloSteps+=MCS\n",
    "            \n",
    "            if net_help==ones(N+2)\n",
    "                positives+=1\n",
    "            end\n",
    "        end\n",
    "        mean_MCS=MonteCarloSteps/L\n",
    "        push!(x_prob_time,xi)\n",
    "        push!(x_prob_time,positives/L)\n",
    "        push!(x_prob_time,mean_MCS)\n",
    "        push!(all,x_prob_time)\n",
    "    end\n",
    "    return all\n",
    "end"
   ]
  },
  {
   "cell_type": "code",
   "execution_count": 5,
   "id": "characteristic-information",
   "metadata": {},
   "outputs": [],
   "source": [
    "N=[100,200,300]\n",
    "dx=0.02\n",
    "L=100;"
   ]
  },
  {
   "cell_type": "code",
   "execution_count": 4,
   "id": "fifteen-association",
   "metadata": {},
   "outputs": [],
   "source": [
    "for n in N\n",
    "    v=voter(n,dx,L)\n",
    "    writedlm(\"N\"*\"$n\"*\".dx\"*\"$dx\"*\".L\"*\"$L\"*\".txt\", v)\n",
    "end;"
   ]
  },
  {
   "cell_type": "code",
   "execution_count": 12,
   "id": "contemporary-dependence",
   "metadata": {},
   "outputs": [],
   "source": [
    "data100 = readdlm(\"N100.dx0.02.L100.txt\")\n",
    "data200 = readdlm(\"N200.dx0.02.L100.txt\")\n",
    "data300 = readdlm(\"N300.dx0.02.L100.txt\");"
   ]
  },
  {
   "cell_type": "code",
   "execution_count": 14,
   "id": "wireless-blast",
   "metadata": {},
   "outputs": [
    {
     "data": {
      "text/plain": [
       "x_prob_time (generic function with 1 method)"
      ]
     },
     "execution_count": 14,
     "metadata": {},
     "output_type": "execute_result"
    }
   ],
   "source": [
    "function x_prob_time(data)\n",
    "    x=zeros(51)\n",
    "    prob=zeros(51)\n",
    "    time=zeros(51)\n",
    "    for i in 1:51\n",
    "        x[i]=data[i,1]\n",
    "        prob[i]=data[i,2]\n",
    "        time[i]=data[i,3]\n",
    "    end\n",
    "    return x, prob, time\n",
    "end"
   ]
  },
  {
   "cell_type": "code",
   "execution_count": 17,
   "id": "thick-pakistan",
   "metadata": {},
   "outputs": [],
   "source": [
    "x100,prob100,time100=x_prob_time(data100)\n",
    "x200,prob200,time200=x_prob_time(data200)\n",
    "x300,prob300,time300=x_prob_time(data300);"
   ]
  },
  {
   "cell_type": "code",
   "execution_count": 18,
   "id": "professional-ranch",
   "metadata": {},
   "outputs": [],
   "source": [
    "probs=[prob100,prob200,prob300]\n",
    "times=[time100,time200,time300];"
   ]
  },
  {
   "cell_type": "code",
   "execution_count": 36,
   "id": "proud-inside",
   "metadata": {},
   "outputs": [],
   "source": [
    "Plots.scatter(x100,probs,markershape=[:square :circle :utriangle],\n",
    "    markerstrokewidth=0.5,labels=[\"N=100\" \"N=200\" \"N=300\"],markersize = 6,legend=:bottomright,\n",
    "    xlabel=\"Percentage of initial positive opinion\",\n",
    "    ylabel=\"Probability of all positive outcome\",\n",
    "    title = \"100 simulations for each initial percentage\",\n",
    "    legendtitle = \"Number of voters\")\n",
    "png(\"probability\")"
   ]
  },
  {
   "cell_type": "code",
   "execution_count": 37,
   "id": "brazilian-sociology",
   "metadata": {},
   "outputs": [],
   "source": [
    "Plots.scatter(x100,times,markershape=[:square :circle :utriangle],\n",
    "    markerstrokewidth=0.5,labels=[\"N=100\" \"N=200\" \"N=300\"],markersize = 6,\n",
    "    xlabel=\"Percentage of initial positive opinion\",\n",
    "    ylabel=\"Average time to reach consensus [MCS]\",\n",
    "    title = \"100 simulations for each initial percentage\",\n",
    "    legendtitle = \"Number of voters\")\n",
    "png(\"time\")"
   ]
  }
 ],
 "metadata": {
  "kernelspec": {
   "display_name": "Julia 1.6.0",
   "language": "julia",
   "name": "julia-1.6"
  },
  "language_info": {
   "file_extension": ".jl",
   "mimetype": "application/julia",
   "name": "julia",
   "version": "1.6.0"
  },
  "toc": {
   "base_numbering": 1,
   "nav_menu": {},
   "number_sections": false,
   "sideBar": true,
   "skip_h1_title": false,
   "title_cell": "Table of Contents",
   "title_sidebar": "Contents",
   "toc_cell": false,
   "toc_position": {},
   "toc_section_display": true,
   "toc_window_display": false
  }
 },
 "nbformat": 4,
 "nbformat_minor": 5
}
